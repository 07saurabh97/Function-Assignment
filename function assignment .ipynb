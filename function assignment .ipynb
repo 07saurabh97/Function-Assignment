{
 "cells": [
  {
   "cell_type": "markdown",
   "id": "c9586d38-0dfb-437e-84ba-8e65e5dc6c33",
   "metadata": {},
   "source": [
    "Question 1- Which keyword is used to create a function? Create a function to return a list of odd numbers in the range of 1 to 25."
   ]
  },
  {
   "cell_type": "markdown",
   "id": "ecb29f42-be96-4cbf-b3f3-91a2f4ed5733",
   "metadata": {},
   "source": [
    "Answer- \"def\" keyword is used to create a function.\n",
    "    "
   ]
  },
  {
   "cell_type": "code",
   "execution_count": 23,
   "id": "d21cf7fa-49fe-4a44-808e-a4a78f6aac82",
   "metadata": {},
   "outputs": [
    {
     "name": "stdout",
     "output_type": "stream",
     "text": [
      "1 3 5 7 9 11 13 15 17 19 21 23 25 "
     ]
    }
   ],
   "source": [
    "list1 = [1,2,3,4,5,6,7,8,9,10,11,12,13,14,15,16,17,18,19,20,21,22,23,24,25]\n",
    "for num in list1:\n",
    "    if num % 2 != 0:\n",
    "       print(num, end=\" \")\n",
    "    "
   ]
  },
  {
   "cell_type": "markdown",
   "id": "dfb2a7e7-2269-4bdb-aee8-4f13f68c23e6",
   "metadata": {},
   "source": [
    "Question 2- Why *args and **kwargs is used in some functions? Create a function each for *args and **kwargs to demonstrate their use."
   ]
  },
  {
   "cell_type": "markdown",
   "id": "ddd160e1-961b-48b6-90bb-efcbbcd719ea",
   "metadata": {},
   "source": [
    "Answer- “*args” is used when we don’t know how many arguments that will be passed into our function. And “**kwargs” is used when we don’t know how many keywords arguments that will be passed into our function.\n",
    "\n"
   ]
  },
  {
   "cell_type": "code",
   "execution_count": 24,
   "id": "1b207fb3-6ca5-4513-9a6a-014f3baef02b",
   "metadata": {},
   "outputs": [
    {
     "data": {
      "text/plain": [
       "((1, 2, 3, 4.25, (5+2j)), {'a': 'Saurabh Kumar', 'b': (1, 2, 3, 4, 5)})"
      ]
     },
     "execution_count": 24,
     "metadata": {},
     "output_type": "execute_result"
    }
   ],
   "source": [
    "def func(*args , **kwargs):\n",
    "    return args, kwargs\n",
    "func(1,2,3,4.25,5+2j,a=\"Saurabh Kumar\",b=(1,2,3,4,5))\n"
   ]
  },
  {
   "cell_type": "markdown",
   "id": "5a58053b-f7e9-4c7b-93d9-3f6187ab1a82",
   "metadata": {},
   "source": [
    "Q3.  What is an iterator in python? Name the method used to initialise the iterator object and the method\n",
    "used for iteration. Use these methods to print the first five elements of the given list [2, 4, 6, 8, 10, 12, 14, 16,18, 20]."
   ]
  },
  {
   "cell_type": "markdown",
   "id": "dc91ab78-e527-4cc9-8f91-4e6d5a73d8aa",
   "metadata": {},
   "source": [
    "Answer- Iterators are objects that allow you to traverse through all the elements of a collection and return one element at a time.\n",
    "  \n",
    "Method used to initialise the iterator is \"_iter_()\" and \"_next_()\"\n",
    "\n"
   ]
  },
  {
   "cell_type": "code",
   "execution_count": 4,
   "id": "b254cca4-ac2d-44bd-bad7-27a0b627e987",
   "metadata": {},
   "outputs": [
    {
     "name": "stdout",
     "output_type": "stream",
     "text": [
      "2\n",
      "4\n",
      "6\n",
      "8\n",
      "10\n"
     ]
    }
   ],
   "source": [
    "StrIterator=(2,4,6,8,10,12,14,16,18,20)\n",
    "MyIter=iter(StrIterator)\n",
    "print(next(MyIter))\n",
    "print(next(MyIter))\n",
    "print(next(MyIter))\n",
    "print(next(MyIter))\n",
    "print(next(MyIter))"
   ]
  },
  {
   "cell_type": "markdown",
   "id": "df3e554b-75c4-4ee3-9e29-67c005ad64fe",
   "metadata": {},
   "source": [
    "Question 4- What is a generator function in python? Why yield keyword is used? Give an example of a generator function."
   ]
  },
  {
   "cell_type": "markdown",
   "id": "0c0bcda5-6984-4e8a-9777-a9a8ab13cfd8",
   "metadata": {},
   "source": [
    "Answer- Generator functions allow you to declare a function that behaves like an iterator, i.e. it can be used in a for loop. \n",
    "\"yield\"keyword is used to create a generator function"
   ]
  },
  {
   "cell_type": "code",
   "execution_count": 5,
   "id": "fa16d81a-4d0d-4788-9574-a3be3c43e416",
   "metadata": {},
   "outputs": [
    {
     "name": "stdout",
     "output_type": "stream",
     "text": [
      "1\n",
      "2\n",
      "3\n"
     ]
    }
   ],
   "source": [
    "def generatorfunc():\n",
    "    yield 1\n",
    "    yield 2\n",
    "    yield 3\n",
    "for value in generatorfunc():\n",
    "    print(value)"
   ]
  },
  {
   "cell_type": "markdown",
   "id": "df33296f-ba37-44d6-b563-ba711f06fc2a",
   "metadata": {},
   "source": [
    "Question 5-  Create a generator function for prime numbers less than 1000. Use the next() method to print the first 20 prime numbers."
   ]
  },
  {
   "cell_type": "code",
   "execution_count": 13,
   "id": "caad9684-f38b-4e31-89a2-2fb6ce2c0ff1",
   "metadata": {},
   "outputs": [
    {
     "name": "stdout",
     "output_type": "stream",
     "text": [
      "First 20 Prime Numbers : \n",
      "2\n",
      "3\n",
      "5\n",
      "7\n",
      "11\n",
      "13\n",
      "17\n",
      "19\n",
      "23\n",
      "29\n",
      "31\n",
      "37\n",
      "41\n",
      "43\n",
      "47\n",
      "53\n",
      "59\n",
      "61\n",
      "67\n",
      "71\n"
     ]
    }
   ],
   "source": [
    "def prime(n):\n",
    "    if n<=1:\n",
    "        return False\n",
    "    for i in range(2, int(n**0.5)+1):\n",
    "        if n%i==0:\n",
    "            return False\n",
    "    return True\n",
    "def prime_no_gener():\n",
    "    n=2\n",
    "    while True:\n",
    "        if prime(n):\n",
    "            yield n\n",
    "        n+=1\n",
    "primes = prime_no_gener()\n",
    "n=20\n",
    "print(\"First\",n,\"Prime Numbers : \")\n",
    "for _ in range(n):\n",
    "    print(next(primes))\n",
    "    \n"
   ]
  },
  {
   "cell_type": "code",
   "execution_count": null,
   "id": "5a5ee2f8-b991-4bcc-a340-2f5213eb73ac",
   "metadata": {},
   "outputs": [],
   "source": []
  },
  {
   "cell_type": "code",
   "execution_count": null,
   "id": "32fdd278-3917-4211-b890-511d34cb00ea",
   "metadata": {},
   "outputs": [],
   "source": []
  }
 ],
 "metadata": {
  "kernelspec": {
   "display_name": "Python 3 (ipykernel)",
   "language": "python",
   "name": "python3"
  },
  "language_info": {
   "codemirror_mode": {
    "name": "ipython",
    "version": 3
   },
   "file_extension": ".py",
   "mimetype": "text/x-python",
   "name": "python",
   "nbconvert_exporter": "python",
   "pygments_lexer": "ipython3",
   "version": "3.10.8"
  }
 },
 "nbformat": 4,
 "nbformat_minor": 5
}
